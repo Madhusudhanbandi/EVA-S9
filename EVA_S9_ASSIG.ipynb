{
  "nbformat": 4,
  "nbformat_minor": 0,
  "metadata": {
    "kernelspec": {
      "name": "python3",
      "display_name": "Python 3"
    },
    "language_info": {
      "codemirror_mode": {
        "name": "ipython",
        "version": 3
      },
      "file_extension": ".py",
      "mimetype": "text/x-python",
      "name": "python",
      "nbconvert_exporter": "python",
      "pygments_lexer": "ipython3",
      "version": "3.6.6"
    },
    "colab": {
      "name": "EVA_S9_ASSIG.ipynb",
      "provenance": [],
      "collapsed_sections": [],
      "include_colab_link": true
    },
    "accelerator": "GPU"
  },
  "cells": [
    {
      "cell_type": "markdown",
      "metadata": {
        "id": "view-in-github",
        "colab_type": "text"
      },
      "source": [
        "<a href=\"https://colab.research.google.com/github/Madhusudhanbandi/EVA-S9/blob/master/EVA_S9_ASSIG.ipynb\" target=\"_parent\"><img src=\"https://colab.research.google.com/assets/colab-badge.svg\" alt=\"Open In Colab\"/></a>"
      ]
    },
    {
      "cell_type": "code",
      "metadata": {
        "id": "qnNlF2wX8-np",
        "colab_type": "code",
        "outputId": "8d6906d5-0c4a-4940-db02-eb644bbb2b17",
        "colab": {
          "base_uri": "https://localhost:8080/",
          "height": 122
        }
      },
      "source": [
        "from google.colab import drive\n",
        "drive.mount('/content/drive')\n",
        "import sys\n",
        "sys.path.append('/content/drive/My Drive')"
      ],
      "execution_count": 1,
      "outputs": [
        {
          "output_type": "stream",
          "text": [
            "Go to this URL in a browser: https://accounts.google.com/o/oauth2/auth?client_id=947318989803-6bn6qk8qdgf4n4g3pfee6491hc0brc4i.apps.googleusercontent.com&redirect_uri=urn%3aietf%3awg%3aoauth%3a2.0%3aoob&response_type=code&scope=email%20https%3a%2f%2fwww.googleapis.com%2fauth%2fdocs.test%20https%3a%2f%2fwww.googleapis.com%2fauth%2fdrive%20https%3a%2f%2fwww.googleapis.com%2fauth%2fdrive.photos.readonly%20https%3a%2f%2fwww.googleapis.com%2fauth%2fpeopleapi.readonly\n",
            "\n",
            "Enter your authorization code:\n",
            "··········\n",
            "Mounted at /content/drive\n"
          ],
          "name": "stdout"
        }
      ]
    },
    {
      "cell_type": "code",
      "metadata": {
        "id": "E0EFQvwX9CTp",
        "colab_type": "code",
        "outputId": "5ba91397-1c9d-4f01-e523-3fbf12e1d5c0",
        "colab": {
          "base_uri": "https://localhost:8080/",
          "height": 34
        }
      },
      "source": [
        "%cd '/content/drive/My Drive/Colab Notebooks'"
      ],
      "execution_count": 2,
      "outputs": [
        {
          "output_type": "stream",
          "text": [
            "/content/drive/My Drive/Colab Notebooks\n"
          ],
          "name": "stdout"
        }
      ]
    },
    {
      "cell_type": "code",
      "metadata": {
        "id": "QVbdg0z4poCc",
        "colab_type": "code",
        "colab": {}
      },
      "source": [
        "%matplotlib inline"
      ],
      "execution_count": 0,
      "outputs": []
    },
    {
      "cell_type": "code",
      "metadata": {
        "id": "-yVpodAMpoCi",
        "colab_type": "code",
        "colab": {}
      },
      "source": [
        "from __future__ import print_function\n",
        "import torch\n",
        "import torch.nn as nn\n",
        "import torch.nn.functional as F\n",
        "import torch.optim as optim\n",
        "from torchvision import datasets,transforms\n",
        "import torchvision\n",
        "from torchsummary import summary\n",
        "from myfunctions import *\n",
        "from transforms_dataloading import downloading_data_transforms_albumentations\n",
        "from tqdm import tqdm\n",
        "\n",
        "from albumentations import  ( \n",
        "    HorizontalFlip, IAAPerspective, ShiftScaleRotate, CLAHE, RandomRotate90,\n",
        "    Transpose, ShiftScaleRotate, Blur, OpticalDistortion, GridDistortion, HueSaturationValue,\n",
        "    IAAAdditiveGaussianNoise, GaussNoise, MotionBlur, MedianBlur, IAAPiecewiseAffine,\n",
        "    IAASharpen, IAAEmboss, RandomBrightnessContrast, Flip, OneOf, Compose , Normalize ,ToFloat, Cutout\n",
        ")\n",
        "\n",
        "import cv2\n",
        "\n",
        "import numpy as np\n",
        "\n",
        "from albumentations.pytorch import  ToTensor "
      ],
      "execution_count": 0,
      "outputs": []
    },
    {
      "cell_type": "markdown",
      "metadata": {
        "id": "fUeRUA14FQZH",
        "colab_type": "text"
      },
      "source": [
        "**Downloading datasets and applying transforms**"
      ]
    },
    {
      "cell_type": "code",
      "metadata": {
        "id": "zzZb_bSdpSbs",
        "colab_type": "code",
        "colab": {
          "base_uri": "https://localhost:8080/",
          "height": 85
        },
        "outputId": "d3703222-b461-4d75-a951-10a41c30afd1"
      },
      "source": [
        "trainset,testset =downloading_data_transforms_albumentations(datasets.CIFAR10)"
      ],
      "execution_count": 4,
      "outputs": [
        {
          "output_type": "stream",
          "text": [
            "Files already downloaded and verified\n",
            "Files already downloaded and verified\n",
            "No.of images in train set are 50000\n",
            "No.of images in test set are 10000\n"
          ],
          "name": "stdout"
        }
      ]
    },
    {
      "cell_type": "markdown",
      "metadata": {
        "id": "-G0S-xaK-jgB",
        "colab_type": "text"
      },
      "source": [
        "**Loading data to train and test loader**"
      ]
    },
    {
      "cell_type": "code",
      "metadata": {
        "id": "x9hZuC-P5vXq",
        "colab_type": "code",
        "outputId": "1dc500a6-5428-40c3-eb42-d48faf15b785",
        "colab": {
          "base_uri": "https://localhost:8080/",
          "height": 51
        }
      },
      "source": [
        "trainloader,testloader=loading_to_train_test_loader(1,trainset,testset)\n"
      ],
      "execution_count": 5,
      "outputs": [
        {
          "output_type": "stream",
          "text": [
            "CUDA Available? True\n",
            "Train and Test data loaded.......\n"
          ],
          "name": "stdout"
        }
      ]
    },
    {
      "cell_type": "markdown",
      "metadata": {
        "id": "D91rZDSq-sXC",
        "colab_type": "text"
      },
      "source": [
        "**Building model network**"
      ]
    },
    {
      "cell_type": "code",
      "metadata": {
        "id": "3tzrKCk9kF5v",
        "colab_type": "code",
        "colab": {}
      },
      "source": [
        "ResNet18=Build_your_ResNetmodel([2,2,2,2])"
      ],
      "execution_count": 0,
      "outputs": []
    },
    {
      "cell_type": "markdown",
      "metadata": {
        "id": "AHe6tv8x-0iD",
        "colab_type": "text"
      },
      "source": [
        "**Adding model to device**"
      ]
    },
    {
      "cell_type": "code",
      "metadata": {
        "id": "IVZyS9ODHENM",
        "colab_type": "code",
        "outputId": "0abdc97a-9a9e-403e-860f-e79ea9615d55",
        "colab": {
          "base_uri": "https://localhost:8080/",
          "height": 1000
        }
      },
      "source": [
        "from torchsummary import summary\n",
        "use_cuda = torch.cuda.is_available()\n",
        "device = torch.device(\"cuda\" if use_cuda else \"cpu\")\n",
        "print(device)\n",
        "model = ResNet18.to(device)\n",
        "summary(model,input_size=(3,32,32))\n",
        "print(\"Model added to device\")"
      ],
      "execution_count": 7,
      "outputs": [
        {
          "output_type": "stream",
          "text": [
            "cuda\n",
            "----------------------------------------------------------------\n",
            "        Layer (type)               Output Shape         Param #\n",
            "================================================================\n",
            "            Conv2d-1           [-1, 64, 32, 32]           1,728\n",
            "       BatchNorm2d-2           [-1, 64, 32, 32]             128\n",
            "            Conv2d-3           [-1, 64, 32, 32]          36,864\n",
            "       BatchNorm2d-4           [-1, 64, 32, 32]             128\n",
            "            Conv2d-5           [-1, 64, 32, 32]          36,864\n",
            "       BatchNorm2d-6           [-1, 64, 32, 32]             128\n",
            "        BasicBlock-7           [-1, 64, 32, 32]               0\n",
            "            Conv2d-8           [-1, 64, 32, 32]          36,864\n",
            "       BatchNorm2d-9           [-1, 64, 32, 32]             128\n",
            "           Conv2d-10           [-1, 64, 32, 32]          36,864\n",
            "      BatchNorm2d-11           [-1, 64, 32, 32]             128\n",
            "       BasicBlock-12           [-1, 64, 32, 32]               0\n",
            "           Conv2d-13          [-1, 128, 16, 16]          73,728\n",
            "      BatchNorm2d-14          [-1, 128, 16, 16]             256\n",
            "           Conv2d-15          [-1, 128, 16, 16]         147,456\n",
            "      BatchNorm2d-16          [-1, 128, 16, 16]             256\n",
            "           Conv2d-17          [-1, 128, 16, 16]           8,192\n",
            "      BatchNorm2d-18          [-1, 128, 16, 16]             256\n",
            "       BasicBlock-19          [-1, 128, 16, 16]               0\n",
            "           Conv2d-20          [-1, 128, 16, 16]         147,456\n",
            "      BatchNorm2d-21          [-1, 128, 16, 16]             256\n",
            "           Conv2d-22          [-1, 128, 16, 16]         147,456\n",
            "      BatchNorm2d-23          [-1, 128, 16, 16]             256\n",
            "       BasicBlock-24          [-1, 128, 16, 16]               0\n",
            "           Conv2d-25            [-1, 256, 8, 8]         294,912\n",
            "      BatchNorm2d-26            [-1, 256, 8, 8]             512\n",
            "           Conv2d-27            [-1, 256, 8, 8]         589,824\n",
            "      BatchNorm2d-28            [-1, 256, 8, 8]             512\n",
            "           Conv2d-29            [-1, 256, 8, 8]          32,768\n",
            "      BatchNorm2d-30            [-1, 256, 8, 8]             512\n",
            "       BasicBlock-31            [-1, 256, 8, 8]               0\n",
            "           Conv2d-32            [-1, 256, 8, 8]         589,824\n",
            "      BatchNorm2d-33            [-1, 256, 8, 8]             512\n",
            "           Conv2d-34            [-1, 256, 8, 8]         589,824\n",
            "      BatchNorm2d-35            [-1, 256, 8, 8]             512\n",
            "       BasicBlock-36            [-1, 256, 8, 8]               0\n",
            "           Conv2d-37            [-1, 512, 4, 4]       1,179,648\n",
            "      BatchNorm2d-38            [-1, 512, 4, 4]           1,024\n",
            "           Conv2d-39            [-1, 512, 4, 4]       2,359,296\n",
            "      BatchNorm2d-40            [-1, 512, 4, 4]           1,024\n",
            "           Conv2d-41            [-1, 512, 4, 4]         131,072\n",
            "      BatchNorm2d-42            [-1, 512, 4, 4]           1,024\n",
            "       BasicBlock-43            [-1, 512, 4, 4]               0\n",
            "           Conv2d-44            [-1, 512, 4, 4]       2,359,296\n",
            "      BatchNorm2d-45            [-1, 512, 4, 4]           1,024\n",
            "           Conv2d-46            [-1, 512, 4, 4]       2,359,296\n",
            "      BatchNorm2d-47            [-1, 512, 4, 4]           1,024\n",
            "       BasicBlock-48            [-1, 512, 4, 4]               0\n",
            "           Linear-49                   [-1, 10]           5,130\n",
            "================================================================\n",
            "Total params: 11,173,962\n",
            "Trainable params: 11,173,962\n",
            "Non-trainable params: 0\n",
            "----------------------------------------------------------------\n",
            "Input size (MB): 0.01\n",
            "Forward/backward pass size (MB): 11.25\n",
            "Params size (MB): 42.63\n",
            "Estimated Total Size (MB): 53.89\n",
            "----------------------------------------------------------------\n",
            "Model added to device\n"
          ],
          "name": "stdout"
        }
      ]
    },
    {
      "cell_type": "markdown",
      "metadata": {
        "id": "km1IAsv6--tm",
        "colab_type": "text"
      },
      "source": [
        "**Defining Loss function and optimizer**"
      ]
    },
    {
      "cell_type": "code",
      "metadata": {
        "id": "6EIOgCsGDSlN",
        "colab_type": "code",
        "colab": {}
      },
      "source": [
        "import torch.optim as optim\n",
        "criterion = nn.CrossEntropyLoss()\n",
        "optimizer = optim.SGD(model.parameters(), lr=0.001, momentum=0.9)"
      ],
      "execution_count": 0,
      "outputs": []
    },
    {
      "cell_type": "markdown",
      "metadata": {
        "id": "DYvX-Enq_LLj",
        "colab_type": "text"
      },
      "source": [
        "**Training model**"
      ]
    },
    {
      "cell_type": "code",
      "metadata": {
        "id": "_tFXG0kQIPun",
        "colab_type": "code",
        "outputId": "6da6adc0-988b-47fa-a63c-21e58e933dd3",
        "colab": {
          "base_uri": "https://localhost:8080/",
          "height": 1000
        }
      },
      "source": [
        "\n",
        "train_loss,train_accr=training_model(model, device, trainloader, optimizer, 60)"
      ],
      "execution_count": 0,
      "outputs": [
        {
          "output_type": "stream",
          "text": [
            "Epoch: 0\n",
            "Train Accuracy= 42.292\n",
            "Epoch: 1\n",
            "Train Accuracy= 58.228\n",
            "Epoch: 2\n",
            "Train Accuracy= 65.29\n",
            "Epoch: 3\n",
            "Train Accuracy= 69.822\n",
            "Epoch: 4\n",
            "Train Accuracy= 73.74\n",
            "Epoch: 5\n",
            "Train Accuracy= 76.598\n",
            "Epoch: 6\n",
            "Train Accuracy= 78.482\n",
            "Epoch: 7\n",
            "Train Accuracy= 80.516\n",
            "Epoch: 8\n",
            "Train Accuracy= 81.896\n",
            "Epoch: 9\n",
            "Train Accuracy= 83.132\n",
            "Epoch: 10\n",
            "Train Accuracy= 84.188\n",
            "Epoch: 11\n",
            "Train Accuracy= 85.62\n",
            "Epoch: 12\n",
            "Train Accuracy= 86.286\n",
            "Epoch: 13\n",
            "Train Accuracy= 87.314\n",
            "Epoch: 14\n",
            "Train Accuracy= 88.144\n",
            "Epoch: 15\n",
            "Train Accuracy= 88.82\n",
            "Epoch: 16\n",
            "Train Accuracy= 89.338\n",
            "Epoch: 17\n",
            "Train Accuracy= 90.156\n",
            "Epoch: 18\n",
            "Train Accuracy= 90.452\n",
            "Epoch: 19\n",
            "Train Accuracy= 90.998\n",
            "Epoch: 20\n",
            "Train Accuracy= 91.382\n",
            "Epoch: 21\n",
            "Train Accuracy= 91.99\n",
            "Epoch: 22\n",
            "Train Accuracy= 91.958\n",
            "Epoch: 23\n",
            "Train Accuracy= 92.44\n",
            "Epoch: 24\n",
            "Train Accuracy= 92.844\n",
            "Epoch: 25\n",
            "Train Accuracy= 93.206\n",
            "Epoch: 26\n",
            "Train Accuracy= 93.55\n",
            "Epoch: 27\n",
            "Train Accuracy= 93.706\n",
            "Epoch: 28\n",
            "Train Accuracy= 94.276\n",
            "Epoch: 29\n",
            "Train Accuracy= 93.954\n",
            "Epoch: 30\n",
            "Train Accuracy= 94.31\n",
            "Epoch: 31\n",
            "Train Accuracy= 94.582\n",
            "Epoch: 32\n",
            "Train Accuracy= 94.67\n",
            "Epoch: 33\n",
            "Train Accuracy= 94.6\n",
            "Epoch: 34\n",
            "Train Accuracy= 94.844\n",
            "Epoch: 35\n",
            "Train Accuracy= 95.17\n",
            "Epoch: 36\n",
            "Train Accuracy= 95.262\n",
            "Epoch: 37\n",
            "Train Accuracy= 95.326\n",
            "Epoch: 38\n",
            "Train Accuracy= 95.462\n",
            "Epoch: 39\n",
            "Train Accuracy= 95.68\n",
            "Epoch: 40\n",
            "Train Accuracy= 95.634\n",
            "Epoch: 41\n",
            "Train Accuracy= 95.746\n",
            "Epoch: 42\n",
            "Train Accuracy= 95.99\n",
            "Epoch: 43\n",
            "Train Accuracy= 95.946\n",
            "Epoch: 44\n",
            "Train Accuracy= 96.042\n",
            "Epoch: 45\n",
            "Train Accuracy= 96.078\n",
            "Epoch: 46\n",
            "Train Accuracy= 96.006\n",
            "Epoch: 47\n",
            "Train Accuracy= 96.236\n",
            "Epoch: 48\n",
            "Train Accuracy= 96.356\n",
            "Epoch: 49\n",
            "Train Accuracy= 96.334\n",
            "Epoch: 50\n",
            "Train Accuracy= 96.562\n",
            "Epoch: 51\n",
            "Train Accuracy= 96.594\n",
            "Epoch: 52\n",
            "Train Accuracy= 96.71\n",
            "Epoch: 53\n",
            "Train Accuracy= 96.554\n",
            "Epoch: 54\n",
            "Train Accuracy= 96.774\n",
            "Epoch: 55\n",
            "Train Accuracy= 96.818\n",
            "Epoch: 56\n",
            "Train Accuracy= 96.78\n",
            "Epoch: 57\n",
            "Train Accuracy= 96.822\n",
            "Epoch: 58\n",
            "Train Accuracy= 96.908\n",
            "Epoch: 59\n",
            "Train Accuracy= 97.02\n"
          ],
          "name": "stdout"
        }
      ]
    },
    {
      "cell_type": "markdown",
      "metadata": {
        "id": "uKzc8oHw_RKx",
        "colab_type": "text"
      },
      "source": [
        "**Testing model**"
      ]
    },
    {
      "cell_type": "code",
      "metadata": {
        "id": "ZY8XT-T8fUDd",
        "colab_type": "code",
        "outputId": "64538eb5-4d20-4e4f-d148-7de60b0b452f",
        "colab": {
          "base_uri": "https://localhost:8080/",
          "height": 68
        }
      },
      "source": [
        "test_los,test_ac=testing_model(model, device, testloader)"
      ],
      "execution_count": 0,
      "outputs": [
        {
          "output_type": "stream",
          "text": [
            "\n",
            "Test set: Average loss: -14.7524, Accuracy: 8754/10000 (87.54%)\n",
            "\n"
          ],
          "name": "stdout"
        }
      ]
    }
  ]
}
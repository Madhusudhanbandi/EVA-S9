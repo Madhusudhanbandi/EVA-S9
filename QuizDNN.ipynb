{
  "nbformat": 4,
  "nbformat_minor": 0,
  "metadata": {
    "colab": {
      "name": "QuizDNN.ipynb",
      "provenance": [],
      "authorship_tag": "ABX9TyONuk1YUkfU95J1rPJ4oF6R",
      "include_colab_link": true
    },
    "kernelspec": {
      "name": "python3",
      "display_name": "Python 3"
    },
    "accelerator": "GPU"
  },
  "cells": [
    {
      "cell_type": "markdown",
      "metadata": {
        "id": "view-in-github",
        "colab_type": "text"
      },
      "source": [
        "<a href=\"https://colab.research.google.com/github/Madhusudhanbandi/EVA-S9/blob/master/QuizDNN.ipynb\" target=\"_parent\"><img src=\"https://colab.research.google.com/assets/colab-badge.svg\" alt=\"Open In Colab\"/></a>"
      ]
    },
    {
      "cell_type": "code",
      "metadata": {
        "id": "8C202vAVBLWz",
        "colab_type": "code",
        "colab": {
          "base_uri": "https://localhost:8080/",
          "height": 122
        },
        "outputId": "f10fc97e-908d-4e0a-fd9c-ce773c9264be"
      },
      "source": [
        "from google.colab import drive\n",
        "drive.mount('/content/drive')\n",
        "import sys\n",
        "sys.path.append('/content/drive/My Drive')"
      ],
      "execution_count": 1,
      "outputs": [
        {
          "output_type": "stream",
          "text": [
            "Go to this URL in a browser: https://accounts.google.com/o/oauth2/auth?client_id=947318989803-6bn6qk8qdgf4n4g3pfee6491hc0brc4i.apps.googleusercontent.com&redirect_uri=urn%3aietf%3awg%3aoauth%3a2.0%3aoob&response_type=code&scope=email%20https%3a%2f%2fwww.googleapis.com%2fauth%2fdocs.test%20https%3a%2f%2fwww.googleapis.com%2fauth%2fdrive%20https%3a%2f%2fwww.googleapis.com%2fauth%2fdrive.photos.readonly%20https%3a%2f%2fwww.googleapis.com%2fauth%2fpeopleapi.readonly\n",
            "\n",
            "Enter your authorization code:\n",
            "··········\n",
            "Mounted at /content/drive\n"
          ],
          "name": "stdout"
        }
      ]
    },
    {
      "cell_type": "code",
      "metadata": {
        "id": "l013g1xQBPm8",
        "colab_type": "code",
        "colab": {
          "base_uri": "https://localhost:8080/",
          "height": 34
        },
        "outputId": "703948f9-987d-48ca-b99a-74cfe63dfdcc"
      },
      "source": [
        "%cd '/content/drive/My Drive/Colab Notebooks'"
      ],
      "execution_count": 2,
      "outputs": [
        {
          "output_type": "stream",
          "text": [
            "/content/drive/My Drive/Colab Notebooks\n"
          ],
          "name": "stdout"
        }
      ]
    },
    {
      "cell_type": "code",
      "metadata": {
        "id": "T9is3JnN_-OF",
        "colab_type": "code",
        "colab": {
          "base_uri": "https://localhost:8080/",
          "height": 34
        },
        "outputId": "55194580-6b5e-4139-9467-daf7dd566eb6"
      },
      "source": [
        "from datetime import datetime\n",
        "print(\"Current Date/Time: \", datetime.now())"
      ],
      "execution_count": 1,
      "outputs": [
        {
          "output_type": "stream",
          "text": [
            "Current Date/Time:  2020-03-16 15:40:25.393332\n"
          ],
          "name": "stdout"
        }
      ]
    },
    {
      "cell_type": "code",
      "metadata": {
        "id": "ZGeDzzeoApB7",
        "colab_type": "code",
        "colab": {}
      },
      "source": [
        "from __future__ import print_function\n",
        "import torch\n",
        "import torch.nn as nn\n",
        "import torch.nn.functional as F\n",
        "import torch.optim as optim\n",
        "from torchvision import datasets,transforms\n",
        "import torchvision\n",
        "from torchsummary import summary\n",
        "from myfunctions import *\n",
        "from transforms_dataloading import downloading_data_transforms_albumentations\n",
        "from QuizDNN import QDNN\n",
        "from tqdm import tqdm\n",
        "\n",
        "from albumentations import  ( \n",
        "    HorizontalFlip, IAAPerspective, ShiftScaleRotate, CLAHE, RandomRotate90,\n",
        "    Transpose, ShiftScaleRotate, Blur, OpticalDistortion, GridDistortion, HueSaturationValue,\n",
        "    IAAAdditiveGaussianNoise, GaussNoise, MotionBlur, MedianBlur, IAAPiecewiseAffine,\n",
        "    IAASharpen, IAAEmboss, RandomBrightnessContrast, Flip, OneOf, Compose , Normalize ,ToFloat, Cutout\n",
        ")\n",
        "\n",
        "import cv2\n",
        "\n",
        "import numpy as np\n",
        "\n",
        "from albumentations.pytorch import  ToTensor "
      ],
      "execution_count": 0,
      "outputs": []
    },
    {
      "cell_type": "code",
      "metadata": {
        "id": "AfZC71_Zkpzb",
        "colab_type": "code",
        "colab": {
          "base_uri": "https://localhost:8080/",
          "height": 85
        },
        "outputId": "376c338e-1c5e-41b4-86dc-4f54af147a35"
      },
      "source": [
        "trainset,testset =downloading_data_transforms_albumentations(datasets.CIFAR10)"
      ],
      "execution_count": 4,
      "outputs": [
        {
          "output_type": "stream",
          "text": [
            "Files already downloaded and verified\n",
            "Files already downloaded and verified\n",
            "No.of images in train set are 50000\n",
            "No.of images in test set are 10000\n"
          ],
          "name": "stdout"
        }
      ]
    },
    {
      "cell_type": "code",
      "metadata": {
        "id": "y6jJhxmZBlz-",
        "colab_type": "code",
        "colab": {
          "base_uri": "https://localhost:8080/",
          "height": 51
        },
        "outputId": "2ced0b26-39a1-4183-89ca-f766984ebac9"
      },
      "source": [
        "trainloader,testloader=loading_to_train_test_loader(1,trainset,testset)\n"
      ],
      "execution_count": 5,
      "outputs": [
        {
          "output_type": "stream",
          "text": [
            "CUDA Available? True\n",
            "Train and Test data loaded.......\n"
          ],
          "name": "stdout"
        }
      ]
    },
    {
      "cell_type": "code",
      "metadata": {
        "id": "lICkrGv-k4wL",
        "colab_type": "code",
        "colab": {}
      },
      "source": [
        "Net=QDNN()"
      ],
      "execution_count": 0,
      "outputs": []
    },
    {
      "cell_type": "code",
      "metadata": {
        "id": "-cKrTAguKHgE",
        "colab_type": "code",
        "colab": {
          "base_uri": "https://localhost:8080/",
          "height": 748
        },
        "outputId": "bb1152f9-e6a5-451f-f9b1-4e7be5887f41"
      },
      "source": [
        "!pip install torchsummary\n",
        "from torchsummary import summary\n",
        "use_cuda = torch.cuda.is_available()\n",
        "device = torch.device(\"cuda\" if use_cuda else \"cpu\")\n",
        "print(device)\n",
        "model = Net().to(device)\n",
        "summary(model, input_size=(3, 32, 32))"
      ],
      "execution_count": 7,
      "outputs": [
        {
          "output_type": "stream",
          "text": [
            "Requirement already satisfied: torchsummary in /usr/local/lib/python3.6/dist-packages (1.5.1)\n",
            "cuda\n",
            "----------------------------------------------------------------\n",
            "        Layer (type)               Output Shape         Param #\n",
            "================================================================\n",
            "            Conv2d-1            [-1, 8, 32, 32]             216\n",
            "       BatchNorm2d-2            [-1, 8, 32, 32]              16\n",
            "              ReLU-3            [-1, 8, 32, 32]               0\n",
            "            Conv2d-4           [-1, 16, 32, 32]           1,584\n",
            "       BatchNorm2d-5           [-1, 16, 32, 32]              32\n",
            "              ReLU-6           [-1, 16, 32, 32]               0\n",
            "         MaxPool2d-7           [-1, 27, 16, 16]               0\n",
            "            Conv2d-8           [-1, 38, 16, 16]           9,234\n",
            "       BatchNorm2d-9           [-1, 38, 16, 16]              76\n",
            "             ReLU-10           [-1, 38, 16, 16]               0\n",
            "           Conv2d-11           [-1, 76, 16, 16]          44,460\n",
            "      BatchNorm2d-12           [-1, 76, 16, 16]             152\n",
            "             ReLU-13           [-1, 76, 16, 16]               0\n",
            "           Conv2d-14          [-1, 152, 16, 16]         192,888\n",
            "      BatchNorm2d-15          [-1, 152, 16, 16]             304\n",
            "             ReLU-16          [-1, 152, 16, 16]               0\n",
            "        MaxPool2d-17            [-1, 266, 8, 8]               0\n",
            "           Conv2d-18            [-1, 274, 8, 8]         655,956\n",
            "      BatchNorm2d-19            [-1, 274, 8, 8]             548\n",
            "             ReLU-20            [-1, 274, 8, 8]               0\n",
            "           Conv2d-21            [-1, 548, 8, 8]       2,663,280\n",
            "      BatchNorm2d-22            [-1, 548, 8, 8]           1,096\n",
            "             ReLU-23            [-1, 548, 8, 8]               0\n",
            "           Conv2d-24           [-1, 1024, 8, 8]      10,027,008\n",
            "      BatchNorm2d-25           [-1, 1024, 8, 8]           2,048\n",
            "             ReLU-26           [-1, 1024, 8, 8]               0\n",
            "        AvgPool2d-27           [-1, 1024, 1, 1]               0\n",
            "           Linear-28                   [-1, 10]          10,250\n",
            "================================================================\n",
            "Total params: 13,609,148\n",
            "Trainable params: 13,609,148\n",
            "Non-trainable params: 0\n",
            "----------------------------------------------------------------\n",
            "Input size (MB): 0.01\n",
            "Forward/backward pass size (MB): 5.02\n",
            "Params size (MB): 51.91\n",
            "Estimated Total Size (MB): 56.94\n",
            "----------------------------------------------------------------\n"
          ],
          "name": "stdout"
        }
      ]
    },
    {
      "cell_type": "code",
      "metadata": {
        "id": "6u3eSaiHDskJ",
        "colab_type": "code",
        "colab": {}
      },
      "source": [
        "import torch.optim as optim\n",
        "criterion = nn.CrossEntropyLoss()\n",
        "optimizer = optim.SGD(model.parameters(), lr=0.001, momentum=0.9)"
      ],
      "execution_count": 0,
      "outputs": []
    },
    {
      "cell_type": "code",
      "metadata": {
        "id": "y6Rl3bsUTrwe",
        "colab_type": "code",
        "colab": {
          "base_uri": "https://localhost:8080/",
          "height": 1000
        },
        "outputId": "192a763d-d969-4b63-f456-212c3afcb673"
      },
      "source": [
        "\n",
        "train_loss,train_accr=training_model(model, device, trainloader, optimizer, 40)"
      ],
      "execution_count": 9,
      "outputs": [
        {
          "output_type": "stream",
          "text": [
            "Epoch: 0\n",
            "Train Accuracy= 37.198\n",
            "Epoch: 1\n",
            "Train Accuracy= 48.848\n",
            "Epoch: 2\n",
            "Train Accuracy= 54.488\n",
            "Epoch: 3\n",
            "Train Accuracy= 58.648\n",
            "Epoch: 4\n",
            "Train Accuracy= 62.03\n",
            "Epoch: 5\n",
            "Train Accuracy= 64.228\n",
            "Epoch: 6\n",
            "Train Accuracy= 66.338\n",
            "Epoch: 7\n",
            "Train Accuracy= 68.146\n",
            "Epoch: 8\n",
            "Train Accuracy= 69.524\n",
            "Epoch: 9\n",
            "Train Accuracy= 70.642\n",
            "Epoch: 10\n",
            "Train Accuracy= 71.928\n",
            "Epoch: 11\n",
            "Train Accuracy= 72.884\n",
            "Epoch: 12\n",
            "Train Accuracy= 73.732\n",
            "Epoch: 13\n",
            "Train Accuracy= 74.574\n",
            "Epoch: 14\n",
            "Train Accuracy= 75.184\n",
            "Epoch: 15\n",
            "Train Accuracy= 76.152\n",
            "Epoch: 16\n",
            "Train Accuracy= 76.88\n",
            "Epoch: 17\n",
            "Train Accuracy= 77.286\n",
            "Epoch: 18\n",
            "Train Accuracy= 77.892\n",
            "Epoch: 19\n",
            "Train Accuracy= 78.26\n",
            "Epoch: 20\n",
            "Train Accuracy= 78.746\n",
            "Epoch: 21\n",
            "Train Accuracy= 79.372\n",
            "Epoch: 22\n",
            "Train Accuracy= 79.87\n",
            "Epoch: 23\n",
            "Train Accuracy= 80.06\n",
            "Epoch: 24\n",
            "Train Accuracy= 80.726\n",
            "Epoch: 25\n",
            "Train Accuracy= 81.086\n",
            "Epoch: 26\n",
            "Train Accuracy= 81.44\n",
            "Epoch: 27\n",
            "Train Accuracy= 81.956\n",
            "Epoch: 28\n",
            "Train Accuracy= 82.03\n",
            "Epoch: 29\n",
            "Train Accuracy= 82.948\n",
            "Epoch: 30\n",
            "Train Accuracy= 83.142\n",
            "Epoch: 31\n",
            "Train Accuracy= 83.232\n",
            "Epoch: 32\n",
            "Train Accuracy= 83.492\n",
            "Epoch: 33\n",
            "Train Accuracy= 83.92\n",
            "Epoch: 34\n",
            "Train Accuracy= 84.274\n",
            "Epoch: 35\n",
            "Train Accuracy= 84.652\n",
            "Epoch: 36\n",
            "Train Accuracy= 84.676\n",
            "Epoch: 37\n",
            "Train Accuracy= 85.086\n",
            "Epoch: 38\n",
            "Train Accuracy= 85.412\n",
            "Epoch: 39\n",
            "Train Accuracy= 85.54\n"
          ],
          "name": "stdout"
        }
      ]
    },
    {
      "cell_type": "code",
      "metadata": {
        "id": "gOIREANtZ2HB",
        "colab_type": "code",
        "colab": {
          "base_uri": "https://localhost:8080/",
          "height": 68
        },
        "outputId": "a9e9d834-4fc3-47b4-b4ee-97420b3307ef"
      },
      "source": [
        "test_los,test_ac=testing_model(model, device, testloader)"
      ],
      "execution_count": 10,
      "outputs": [
        {
          "output_type": "stream",
          "text": [
            "\n",
            "Test set: Average loss: 0.5487, Accuracy: 8272/10000 (82.72%)\n",
            "\n"
          ],
          "name": "stdout"
        }
      ]
    }
  ]
}